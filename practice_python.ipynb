{
 "metadata": {
  "language_info": {
   "codemirror_mode": {
    "name": "ipython",
    "version": 3
   },
   "file_extension": ".py",
   "mimetype": "text/x-python",
   "name": "python",
   "nbconvert_exporter": "python",
   "pygments_lexer": "ipython3",
   "version": "3.7.9"
  },
  "orig_nbformat": 2,
  "kernelspec": {
   "name": "python379jvsc74a57bd04e16bc90bb1be4fcd3e766e2f5d73f05719f516a7206bf1e9e77281fd34acfc0",
   "display_name": "Python 3.7.9 64-bit ('PythonData')"
  }
 },
 "nbformat": 4,
 "nbformat_minor": 2,
 "cells": [
  {
   "cell_type": "code",
   "execution_count": 1,
   "metadata": {},
   "outputs": [
    {
     "output_type": "stream",
     "name": "stdout",
     "text": [
      "El Paso is not in the list of counties\n"
     ]
    }
   ],
   "source": [
    "                \n",
    "counties = [\"Arapahoe\",\"Denver\",\"Jefferson\"]\n",
    "if \"El Paso\" in counties:\n",
    "    print(\"El Paso is in the list of counties.\")\n",
    "else:\n",
    "    print(\"El Paso is not in the list of counties\")"
   ]
  },
  {
   "cell_type": "code",
   "execution_count": 2,
   "metadata": {},
   "outputs": [
    {
     "output_type": "stream",
     "name": "stdout",
     "text": [
      "Arapahoe\nDenver\nJefferson\n"
     ]
    }
   ],
   "source": [
    "for county in counties:\n",
    "    print(county)"
   ]
  },
  {
   "cell_type": "code",
   "execution_count": 4,
   "metadata": {},
   "outputs": [
    {
     "output_type": "stream",
     "name": "stdout",
     "text": [
      "0\n1\n2\n3\n4\n"
     ]
    }
   ],
   "source": [
    "numbers = [0,1,2,3,4]\n",
    "for num in numbers:\n",
    "    print(num)"
   ]
  },
  {
   "cell_type": "code",
   "execution_count": 5,
   "metadata": {},
   "outputs": [
    {
     "output_type": "stream",
     "name": "stdout",
     "text": [
      "0\n1\n2\n3\n4\n"
     ]
    }
   ],
   "source": [
    "for num in range(5):\n",
    "    print(num)"
   ]
  },
  {
   "cell_type": "code",
   "execution_count": 6,
   "metadata": {},
   "outputs": [
    {
     "output_type": "stream",
     "name": "stdout",
     "text": [
      "Arapahoe\nDenver\nJefferson\n"
     ]
    }
   ],
   "source": [
    "for i in range(len(counties)):\n",
    "    print(counties[i])"
   ]
  },
  {
   "cell_type": "code",
   "execution_count": 8,
   "metadata": {},
   "outputs": [
    {
     "output_type": "stream",
     "name": "stdout",
     "text": [
      "Arapahoe\nDemver\nJefferson\n"
     ]
    }
   ],
   "source": [
    "counties_dict = {\"Arapahoe\": 422829, \"Demver\": 463353, \"Jefferson\": 432438}\n",
    "for county in counties_dict:\n",
    "    print(county)"
   ]
  },
  {
   "cell_type": "code",
   "execution_count": 9,
   "metadata": {},
   "outputs": [
    {
     "output_type": "stream",
     "name": "stdout",
     "text": [
      "Arapahoe\nDemver\nJefferson\n"
     ]
    }
   ],
   "source": [
    "for county in counties_dict.keys():\n",
    "    print(county)"
   ]
  },
  {
   "cell_type": "code",
   "execution_count": 10,
   "metadata": {},
   "outputs": [
    {
     "output_type": "stream",
     "name": "stdout",
     "text": [
      "422829\n463353\n432438\n"
     ]
    }
   ],
   "source": [
    "for voters in counties_dict.values():\n",
    "    print(voters)"
   ]
  },
  {
   "cell_type": "code",
   "execution_count": 11,
   "metadata": {},
   "outputs": [
    {
     "output_type": "stream",
     "name": "stdout",
     "text": [
      "422829\n463353\n432438\n"
     ]
    }
   ],
   "source": [
    "for county in counties_dict:\n",
    "    print(counties_dict[county])"
   ]
  },
  {
   "cell_type": "code",
   "execution_count": 12,
   "metadata": {},
   "outputs": [
    {
     "output_type": "stream",
     "name": "stdout",
     "text": [
      "422829\n463353\n432438\n"
     ]
    }
   ],
   "source": [
    "for county in counties_dict:\n",
    "    print(counties_dict.get(county))"
   ]
  },
  {
   "cell_type": "code",
   "execution_count": 14,
   "metadata": {},
   "outputs": [
    {
     "output_type": "stream",
     "name": "stdout",
     "text": [
      "Arapahoe 422829\nDemver 463353\nJefferson 432438\n"
     ]
    }
   ],
   "source": [
    "for county, voters in counties_dict.items():\n",
    "    print(county, voters)"
   ]
  },
  {
   "cell_type": "code",
   "execution_count": 17,
   "metadata": {},
   "outputs": [
    {
     "output_type": "stream",
     "name": "stdout",
     "text": [
      "{'county': 'Arapahoe', 'registered_voters': 422829}\n{'county': 'Denver', 'registered_voters': 463353}\n{'county': 'Jefferson', 'registered_voters': 432438}\n"
     ]
    }
   ],
   "source": [
    "voting_data = [{\"county\":\"Arapahoe\", \"registered_voters\": 422829}, {\"county\":\"Denver\", \"registered_voters\": 463353},{\"county\":\"Jefferson\", \"registered_voters\": 432438}]\n",
    "for county_dict in voting_data:\n",
    "    print(county_dict)"
   ]
  },
  {
   "cell_type": "code",
   "execution_count": 18,
   "metadata": {},
   "outputs": [
    {
     "output_type": "stream",
     "name": "stdout",
     "text": [
      "Arapahoe\n422829\nDenver\n463353\nJefferson\n432438\n"
     ]
    }
   ],
   "source": [
    "for county_dict in voting_data:\n",
    "    for value in county_dict.values():\n",
    "        print(value)"
   ]
  },
  {
   "cell_type": "code",
   "execution_count": 19,
   "metadata": {},
   "outputs": [
    {
     "output_type": "stream",
     "name": "stdout",
     "text": [
      "Arapahoe\nDenver\nJefferson\n"
     ]
    }
   ],
   "source": [
    "for county_dict in voting_data:\n",
    "    print(county_dict['county'])"
   ]
  },
  {
   "cell_type": "code",
   "execution_count": 22,
   "metadata": {},
   "outputs": [
    {
     "output_type": "stream",
     "name": "stdout",
     "text": [
      "I received 20.0% of the total votes.\n"
     ]
    }
   ],
   "source": [
    "my_votes = int(input(\"How many votes did you get in the election? \"))\n",
    "total_votes = int(input(\"What is the total votes in the election? \"))\n",
    "percentage_votes = (my_votes / total_votes) * 100\n",
    "print(\"I received \" + str(percentage_votes)+\"% of the total votes.\")\n"
   ]
  },
  {
   "cell_type": "code",
   "execution_count": 24,
   "metadata": {},
   "outputs": [
    {
     "output_type": "stream",
     "name": "stdout",
     "text": [
      "I received 714.2857142857143% of the total votes.\n"
     ]
    }
   ],
   "source": [
    "my_votes = int(input(\"How many votes did you get in the election? \"))\n",
    "total_votes = int(input(\"What is the total votes in the election? \"))\n",
    "print(f\"I received {my_votes / total_votes * 100}% of the total votes.\")"
   ]
  },
  {
   "cell_type": "code",
   "execution_count": 25,
   "metadata": {},
   "outputs": [
    {
     "output_type": "stream",
     "name": "stdout",
     "text": [
      "Arapahoe county has 369237 registered voters.\nDenver county has 413229 registered voters.\nJefferson county has 390222 registered voters.\n"
     ]
    }
   ],
   "source": [
    "counties_dict = {\"Arapahoe\": 369237, \"Denver\":413229, \"Jefferson\": 390222}\n",
    "for county, voters in counties_dict.items():\n",
    "    print(county + \" county has \" + str(voters) + \" registered voters.\")"
   ]
  },
  {
   "cell_type": "code",
   "execution_count": 26,
   "metadata": {},
   "outputs": [
    {
     "output_type": "stream",
     "name": "stdout",
     "text": [
      "Arapahoe county has 369237 registered voters.\nDenver county has 413229 registered voters.\nJefferson county has 390222 registered voters.\n"
     ]
    }
   ],
   "source": [
    "for county, voters in counties_dict.items():\n",
    "    print(f\"{county} county has {voters} registered voters.\")"
   ]
  },
  {
   "cell_type": "code",
   "execution_count": 28,
   "metadata": {},
   "outputs": [
    {
     "output_type": "stream",
     "name": "stdout",
     "text": [
      "You received 3345 number of votes. The total number of votes in the elections was 23123. You received 14.47% of the total votes. \n"
     ]
    }
   ],
   "source": [
    "candidate_votes = int(input(\"How many votes did the candidate get in the election? \"))\n",
    "total_votes = int(input(\"What is the toal number of votes in the election? \"))\n",
    "message_to_candidate = ( \n",
    "    f\"You received {candidate_votes} number of votes. \"\n",
    "    f\"The total number of votes in the elections was {total_votes}. \"\n",
    "    f\"You received {candidate_votes / total_votes * 100:.2f}% of the total votes. \")\n",
    "print(message_to_candidate)"
   ]
  },
  {
   "cell_type": "code",
   "execution_count": 31,
   "metadata": {},
   "outputs": [
    {
     "output_type": "stream",
     "name": "stdout",
     "text": [
      "Arapahoe county has 422829 registered voters.\nDenver county has 463353 registered voters.\nJefferson county has 432438 registered voters.\n"
     ]
    }
   ],
   "source": [
    "counties_dict = {\"Arapahoe\": 422829, \"Denver\": 463353, \"Jefferson\": 432438}\n",
    "for county, voters in counties_dict.items():\n",
    "    print(f\"{county} county has {voters} registered voters.\")"
   ]
  },
  {
   "cell_type": "code",
   "execution_count": 34,
   "metadata": {},
   "outputs": [
    {
     "output_type": "error",
     "ename": "SyntaxError",
     "evalue": "invalid syntax (<ipython-input-34-ece104cc31a7>, line 1)",
     "traceback": [
      "\u001b[0;36m  File \u001b[0;32m\"<ipython-input-34-ece104cc31a7>\"\u001b[0;36m, line \u001b[0;32m1\u001b[0m\n\u001b[0;31m    voting_data = [``{\"county\":\"Arapahoe\", \"registered_voters\": 422829}, {\"county\":\"Denver\", \"registered_voters\": 463353}, {\"county\":\"Jefferson\", \"registered_voters\": 432438}]\u001b[0m\n\u001b[0m                   ^\u001b[0m\n\u001b[0;31mSyntaxError\u001b[0m\u001b[0;31m:\u001b[0m invalid syntax\n"
     ]
    }
   ],
   "source": [
    "voting_data = [``{\"county\":\"Arapahoe\", \"registered_voters\": 422829}, {\"county\":\"Denver\", \"registered_voters\": 463353}, {\"county\":\"Jefferson\", \"registered_voters\": 432438}]\n",
    "for county, voters in voting_data.items():\n",
    "    print(f\"{county} county has {registered_voters} registered voters. \")"
   ]
  },
  {
   "cell_type": "code",
   "execution_count": 35,
   "metadata": {},
   "outputs": [
    {
     "output_type": "stream",
     "name": "stdout",
     "text": [
      "The time right now is  2021-05-04 23:06:57.004605\n"
     ]
    }
   ],
   "source": [
    "import datetime as dt\n",
    "# Use the now() attribute on the datetime class to get the present time.\n",
    "now = dt.datetime.now()\n",
    "# Print the present time.\n",
    "print(\"The time right now is \", now)"
   ]
  },
  {
   "cell_type": "code",
   "execution_count": null,
   "metadata": {},
   "outputs": [],
   "source": []
  }
 ]
}